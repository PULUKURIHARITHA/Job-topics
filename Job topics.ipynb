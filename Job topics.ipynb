{
 "cells": [
  {
   "cell_type": "code",
   "execution_count": 1,
   "id": "602604be-a269-46fd-b3b4-e99a5d990482",
   "metadata": {},
   "outputs": [
    {
     "name": "stdout",
     "output_type": "stream",
     "text": [
      "File data in KitKat.txt: hello students!!! how are you ðŸ˜Š\n"
     ]
    }
   ],
   "source": [
    "#Read \n",
    "file=open('KitKat.txt','r')#read \n",
    "data=file.read()\n",
    "print(\"File data in KitKat.txt:\",data)\n",
    "file.close()"
   ]
  },
  {
   "cell_type": "code",
   "execution_count": 9,
   "id": "88a355c4-a6cb-4850-b8e4-ace25b011b6a",
   "metadata": {},
   "outputs": [],
   "source": [
    "#write\n",
    "f=open('smile.txt','w')  #w means write \n",
    "f.write(\"there are plenty of fruits in the garden....\")#we can write anything\n",
    "f.close()"
   ]
  },
  {
   "cell_type": "code",
   "execution_count": 23,
   "id": "3ed09d82-ec84-4f71-b2f7-54da47bc91c4",
   "metadata": {},
   "outputs": [],
   "source": [
    "#append\n",
    "f=open('smile.txt','a')  #a means append \n",
    "f.write(\"can you click some pics\")#we can write anything\n",
    "f.close()"
   ]
  },
  {
   "cell_type": "code",
   "execution_count": 27,
   "id": "da28f647-2b0f-4882-909d-6cb309817433",
   "metadata": {},
   "outputs": [],
   "source": [
    "#write file\n",
    "with open('root.txt','w')as toy:\n",
    "    toy.write(\"Hello Honey..... How are you\")"
   ]
  },
  {
   "cell_type": "code",
   "execution_count": 47,
   "id": "c006ee88-effc-400d-bb2d-3571368ebcef",
   "metadata": {},
   "outputs": [
    {
     "name": "stdout",
     "output_type": "stream",
     "text": [
      "1st line: hello\n",
      "\n",
      "2nd line: how are you\n",
      "\n",
      "3rd line: what are you doing\n",
      "\n",
      "1st line: wow\n",
      "\n",
      "n- line: ['what']\n"
     ]
    }
   ],
   "source": [
    "# Readline\n",
    "file=open('line.txt','r')\n",
    "print(\"1st line:\",file.readline())\n",
    "print(\"2nd line:\",file.readline())\n",
    "print(\"3rd line:\",file.readline())\n",
    "print(\"1st line:\",file.readline(20))\n",
    "print(\"n- line:\",file.readlines())"
   ]
  },
  {
   "cell_type": "code",
   "execution_count": null,
   "id": "8e3cf992-2394-46d3-819c-48a20b7096dd",
   "metadata": {},
   "outputs": [],
   "source": []
  }
 ],
 "metadata": {
  "kernelspec": {
   "display_name": "Python 3 (ipykernel)",
   "language": "python",
   "name": "python3"
  },
  "language_info": {
   "codemirror_mode": {
    "name": "ipython",
    "version": 3
   },
   "file_extension": ".py",
   "mimetype": "text/x-python",
   "name": "python",
   "nbconvert_exporter": "python",
   "pygments_lexer": "ipython3",
   "version": "3.12.7"
  }
 },
 "nbformat": 4,
 "nbformat_minor": 5
}
